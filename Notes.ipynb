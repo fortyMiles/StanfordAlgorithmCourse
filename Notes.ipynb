{
 "cells": [
  {
   "cell_type": "markdown",
   "metadata": {},
   "source": [
    "## Asymptotic Analysis"
   ]
  },
  {
   "cell_type": "markdown",
   "metadata": {},
   "source": [
    "### Define of Big-O\n",
    "\n",
    "formal definiton: \n",
    "\n",
    "$T(n) = O(f(n))$ if and only if $\\exists c, n_0 > 0$ s.t\n",
    "\n",
    "$ T(n) \\leq c \\cdot f(n) $ for $\\forall n \\geq n_0 $\n",
    "\n",
    "Constant: $ c, n_0 $ cannot depend on $n$."
   ]
  }
 ],
 "metadata": {
  "kernelspec": {
   "display_name": "Python 3",
   "language": "python",
   "name": "python3"
  },
  "language_info": {
   "codemirror_mode": {
    "name": "ipython",
    "version": 3.0
   },
   "file_extension": ".py",
   "mimetype": "text/x-python",
   "name": "python",
   "nbconvert_exporter": "python",
   "pygments_lexer": "ipython3",
   "version": "3.6.2"
  }
 },
 "nbformat": 4,
 "nbformat_minor": 0
}